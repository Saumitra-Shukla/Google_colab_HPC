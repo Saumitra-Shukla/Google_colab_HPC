{
  "nbformat": 4,
  "nbformat_minor": 0,
  "metadata": {
    "colab": {
      "name": "saumitra_HPC.ipynb",
      "version": "0.3.2",
      "provenance": [],
      "include_colab_link": true
    },
    "kernelspec": {
      "name": "python3",
      "display_name": "Python 3"
    }
  },
  "cells": [
    {
      "cell_type": "markdown",
      "metadata": {
        "id": "view-in-github",
        "colab_type": "text"
      },
      "source": [
        "<a href=\"https://colab.research.google.com/github/Saumitra-Shukla/Google_colab_HPC/blob/master/saumitra_HPC.ipynb\" target=\"_parent\"><img src=\"https://colab.research.google.com/assets/colab-badge.svg\" alt=\"Open In Colab\"/></a>"
      ]
    },
    {
      "cell_type": "code",
      "metadata": {
        "id": "cF9Wj_pm00i_",
        "colab_type": "code",
        "colab": {}
      },
      "source": [
        "!ls"
      ],
      "execution_count": 0,
      "outputs": []
    },
    {
      "cell_type": "code",
      "metadata": {
        "id": "6RTO3KEw04-1",
        "colab_type": "code",
        "colab": {}
      },
      "source": [
        "rm -rf sample_data"
      ],
      "execution_count": 0,
      "outputs": []
    },
    {
      "cell_type": "code",
      "metadata": {
        "id": "GY482sij1AUM",
        "colab_type": "code",
        "outputId": "cfb30696-9b71-4337-bdbe-c22b54d38460",
        "colab": {
          "base_uri": "https://localhost:8080/",
          "height": 104
        }
      },
      "source": [
        "!lsb_release -a"
      ],
      "execution_count": 0,
      "outputs": [
        {
          "output_type": "stream",
          "text": [
            "No LSB modules are available.\n",
            "Distributor ID:\tUbuntu\n",
            "Description:\tUbuntu 18.04.2 LTS\n",
            "Release:\t18.04\n",
            "Codename:\tbionic\n"
          ],
          "name": "stdout"
        }
      ]
    },
    {
      "cell_type": "code",
      "metadata": {
        "id": "aMgbz2XK1JXC",
        "colab_type": "code",
        "outputId": "6bfdcf0f-b5e1-4924-affa-9365fd0d5c2a",
        "colab": {
          "base_uri": "https://localhost:8080/",
          "height": 34
        }
      },
      "source": [
        "!curl ipecho.net/plain"
      ],
      "execution_count": 0,
      "outputs": [
        {
          "output_type": "stream",
          "text": [
            "35.185.231.149"
          ],
          "name": "stdout"
        }
      ]
    },
    {
      "cell_type": "code",
      "metadata": {
        "id": "B5MxktvN1YLc",
        "colab_type": "code",
        "outputId": "059ceabc-af12-401d-e4c2-40f3424563ec",
        "colab": {
          "base_uri": "https://localhost:8080/",
          "height": 34
        }
      },
      "source": [
        "!sudo service start apache2.service"
      ],
      "execution_count": 0,
      "outputs": [
        {
          "output_type": "stream",
          "text": [
            "start: unrecognized service\n"
          ],
          "name": "stdout"
        }
      ]
    },
    {
      "cell_type": "code",
      "metadata": {
        "id": "VAXTX2INJAoa",
        "colab_type": "code",
        "outputId": "b6e1b35c-5031-4efb-d85e-f7069e7ad780",
        "colab": {
          "base_uri": "https://localhost:8080/",
          "height": 121
        }
      },
      "source": [
        "!bash --login"
      ],
      "execution_count": 0,
      "outputs": [
        {
          "output_type": "stream",
          "text": [
            "bash: cannot set terminal process group (131): Inappropriate ioctl for device\n",
            "bash: no job control in this shell\n",
            "\u001b]0;root@ae4f8f6a5e41: /content\u0007\u001b[01;32mroot@ae4f8f6a5e41\u001b[00m:\u001b[01;34m/content\u001b[00m# \n",
            "\u001b]0;root@ae4f8f6a5e41: /content\u0007\u001b[01;32mroot@ae4f8f6a5e41\u001b[00m:\u001b[01;34m/content\u001b[00m# \n",
            "\u001b]0;root@ae4f8f6a5e41: /content\u0007\u001b[01;32mroot@ae4f8f6a5e41\u001b[00m:\u001b[01;34m/content\u001b[00m# \n",
            "\u001b]0;root@ae4f8f6a5e41: /content\u0007\u001b[01;32mroot@ae4f8f6a5e41\u001b[00m:\u001b[01;34m/content\u001b[00m# logout\n"
          ],
          "name": "stdout"
        }
      ]
    },
    {
      "cell_type": "code",
      "metadata": {
        "id": "zRJ6nH2aJXyj",
        "colab_type": "code",
        "colab": {}
      },
      "source": [
        ""
      ],
      "execution_count": 0,
      "outputs": []
    }
  ]
}